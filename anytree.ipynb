{
 "cells": [
  {
   "cell_type": "code",
   "execution_count": null,
   "metadata": {},
   "outputs": [],
   "source": [
    "pip install anytree"
   ]
  },
  {
   "cell_type": "code",
   "execution_count": 1,
   "metadata": {},
   "outputs": [],
   "source": [
    "from anytree import Node,RenderTree"
   ]
  },
  {
   "cell_type": "code",
   "execution_count": 2,
   "metadata": {},
   "outputs": [],
   "source": [
    "root = Node(\"100\")\n",
    "s0 = Node(\"1%(-15W)\", parent=root)\n",
    "s0b = Node(\"50% (-18.5W)\", parent=s0)\n",
    "s0a = Node(\"50% (-18.5W)\", parent=s0)\n",
    "\n",
    "s0a1 = Node('50% (-22W)',parent = s0a)\n",
    "s0a2 = Node(\"50% (-22W)\",parent = s0a)\n",
    "\n",
    "s1 = Node(\"99%(4.5W)\", parent=root)\n",
    "s1a = Node(\"5%(-9W)\", parent=s1)\n",
    "s1b = Node(\"95%(4W)\", parent=s1)\n",
    "\n",
    "s11a= Node(\"25%(-16W)\", parent=s1a)\n",
    "s11b= Node(\"25%(-16W)\", parent=s1a)\n",
    "s11c= Node(\"25%(-16W)\", parent=s1a)\n",
    "s11d= Node(\"25%(-16W)\", parent=s1a)\n",
    "\n",
    "s12a=Node(\"1%(-16W)\", parent=s1b)\n",
    "s12b=Node(\"99%(-3.5W)\", parent=s1b)\n",
    "\n",
    "s111a = Node(\"25%(-23W)\", parent=s11a)\n",
    "s111b = Node(\"25%(-23W)\", parent=s11a)\n",
    "s111c = Node(\"25%(-23W)\", parent=s11a)\n",
    "s111d = Node(\"25%(-23W)\", parent=s11a)\n",
    "\n",
    "s22a=Node(\"1%(-23.5W)\", parent=s12b)\n",
    "s22b=Node(\"99%(-3W)\", parent=s12b)\n",
    "\n",
    "s33a = Node(\"5%(-16W)\", parent=s22b)\n",
    "s33b = Node(\"95%(-3.5W)\", parent=s22b)\n",
    "\n",
    "s44a = Node(\"25%(-23.5W)\", parent=s33a)\n",
    "s44b = Node(\"25%(-23.5W)\", parent=s33a)\n",
    "s44c = Node(\"25%(-23.5W)\", parent=s33a)\n",
    "s44d = Node(\"25%(-23.5W)\", parent=s33a)"
   ]
  },
  {
   "cell_type": "code",
   "execution_count": 3,
   "metadata": {
    "scrolled": false
   },
   "outputs": [
    {
     "name": "stdout",
     "output_type": "stream",
     "text": [
      "100\n",
      "├── 1%(-15W)\n",
      "│   ├── 50% (-18.5W)\n",
      "│   └── 50% (-18.5W)\n",
      "│       ├── 50% (-22W)\n",
      "│       └── 50% (-22W)\n",
      "└── 99%(4.5W)\n",
      "    ├── 5%(-9W)\n",
      "    │   ├── 25%(-16W)\n",
      "    │   │   ├── 25%(-23W)\n",
      "    │   │   ├── 25%(-23W)\n",
      "    │   │   ├── 25%(-23W)\n",
      "    │   │   └── 25%(-23W)\n",
      "    │   ├── 25%(-16W)\n",
      "    │   ├── 25%(-16W)\n",
      "    │   └── 25%(-16W)\n",
      "    └── 95%(4W)\n",
      "        ├── 1%(-16W)\n",
      "        └── 99%(-3.5W)\n",
      "            ├── 1%(-23.5W)\n",
      "            └── 99%(-3W)\n",
      "                ├── 5%(-16W)\n",
      "                │   ├── 25%(-23.5W)\n",
      "                │   ├── 25%(-23.5W)\n",
      "                │   ├── 25%(-23.5W)\n",
      "                │   └── 25%(-23.5W)\n",
      "                └── 95%(-3.5W)\n"
     ]
    }
   ],
   "source": [
    "for pre, _, node in RenderTree(root):\n",
    "    print(\"%s%s\" % (pre, node.name))"
   ]
  }
 ],
 "metadata": {
  "kernelspec": {
   "display_name": "Python 3",
   "language": "python",
   "name": "python3"
  },
  "language_info": {
   "codemirror_mode": {
    "name": "ipython",
    "version": 3
   },
   "file_extension": ".py",
   "mimetype": "text/x-python",
   "name": "python",
   "nbconvert_exporter": "python",
   "pygments_lexer": "ipython3",
   "version": "3.7.4"
  }
 },
 "nbformat": 4,
 "nbformat_minor": 2
}
